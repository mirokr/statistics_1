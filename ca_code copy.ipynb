{
 "cells": [
  {
   "cell_type": "code",
   "execution_count": 1,
   "source": [
    "import pandas as pd\r\n",
    "import statistics as stats\r\n",
    "# import numpy as np\r\n",
    "import matplotlib.pyplot as plt"
   ],
   "outputs": [],
   "metadata": {}
  },
  {
   "cell_type": "code",
   "execution_count": 2,
   "source": [
    "df= pd.read_csv('quiz.csv')\r\n",
    "df.head()"
   ],
   "outputs": [
    {
     "output_type": "execute_result",
     "data": {
      "text/plain": [
       "               date  age nationality  old_level  mod_failed  gender  \\\n",
       "0  20/07/2021 10:13   30       Irish          8           2  Female   \n",
       "1  20/07/2021 11:10   28       Irish          7           1  Female   \n",
       "2  21/07/2021 16:45   26       Irish          7           1    Male   \n",
       "3  21/07/2021 17:23   34       Other          6           1    Male   \n",
       "4  21/07/2021 21:19   33       Irish          7           0  Female   \n",
       "\n",
       "   avg_1st_sem  cont_study  \n",
       "0           55           1  \n",
       "1           54           1  \n",
       "2           67           0  \n",
       "3           54           0  \n",
       "4           75           0  "
      ],
      "text/html": [
       "<div>\n",
       "<style scoped>\n",
       "    .dataframe tbody tr th:only-of-type {\n",
       "        vertical-align: middle;\n",
       "    }\n",
       "\n",
       "    .dataframe tbody tr th {\n",
       "        vertical-align: top;\n",
       "    }\n",
       "\n",
       "    .dataframe thead th {\n",
       "        text-align: right;\n",
       "    }\n",
       "</style>\n",
       "<table border=\"1\" class=\"dataframe\">\n",
       "  <thead>\n",
       "    <tr style=\"text-align: right;\">\n",
       "      <th></th>\n",
       "      <th>date</th>\n",
       "      <th>age</th>\n",
       "      <th>nationality</th>\n",
       "      <th>old_level</th>\n",
       "      <th>mod_failed</th>\n",
       "      <th>gender</th>\n",
       "      <th>avg_1st_sem</th>\n",
       "      <th>cont_study</th>\n",
       "    </tr>\n",
       "  </thead>\n",
       "  <tbody>\n",
       "    <tr>\n",
       "      <th>0</th>\n",
       "      <td>20/07/2021 10:13</td>\n",
       "      <td>30</td>\n",
       "      <td>Irish</td>\n",
       "      <td>8</td>\n",
       "      <td>2</td>\n",
       "      <td>Female</td>\n",
       "      <td>55</td>\n",
       "      <td>1</td>\n",
       "    </tr>\n",
       "    <tr>\n",
       "      <th>1</th>\n",
       "      <td>20/07/2021 11:10</td>\n",
       "      <td>28</td>\n",
       "      <td>Irish</td>\n",
       "      <td>7</td>\n",
       "      <td>1</td>\n",
       "      <td>Female</td>\n",
       "      <td>54</td>\n",
       "      <td>1</td>\n",
       "    </tr>\n",
       "    <tr>\n",
       "      <th>2</th>\n",
       "      <td>21/07/2021 16:45</td>\n",
       "      <td>26</td>\n",
       "      <td>Irish</td>\n",
       "      <td>7</td>\n",
       "      <td>1</td>\n",
       "      <td>Male</td>\n",
       "      <td>67</td>\n",
       "      <td>0</td>\n",
       "    </tr>\n",
       "    <tr>\n",
       "      <th>3</th>\n",
       "      <td>21/07/2021 17:23</td>\n",
       "      <td>34</td>\n",
       "      <td>Other</td>\n",
       "      <td>6</td>\n",
       "      <td>1</td>\n",
       "      <td>Male</td>\n",
       "      <td>54</td>\n",
       "      <td>0</td>\n",
       "    </tr>\n",
       "    <tr>\n",
       "      <th>4</th>\n",
       "      <td>21/07/2021 21:19</td>\n",
       "      <td>33</td>\n",
       "      <td>Irish</td>\n",
       "      <td>7</td>\n",
       "      <td>0</td>\n",
       "      <td>Female</td>\n",
       "      <td>75</td>\n",
       "      <td>0</td>\n",
       "    </tr>\n",
       "  </tbody>\n",
       "</table>\n",
       "</div>"
      ]
     },
     "metadata": {},
     "execution_count": 2
    }
   ],
   "metadata": {}
  },
  {
   "cell_type": "code",
   "execution_count": 27,
   "source": [
    "#CENTRAL TENDENCY\r\n",
    "mean = df['age'].mean()\r\n",
    "print(mean)\r\n",
    "\r\n",
    "\r\n",
    "median = df['age'].median()\r\n",
    "print(median)\r\n",
    "\r\n",
    "\r\n",
    "mode = df['age'].mode()\r\n",
    "print(mode)\r\n"
   ],
   "outputs": [
    {
     "output_type": "stream",
     "name": "stdout",
     "text": [
      "33.15\n",
      "33.5\n",
      "0    34\n",
      "dtype: int64\n"
     ]
    }
   ],
   "metadata": {}
  },
  {
   "cell_type": "code",
   "execution_count": 28,
   "source": [
    "#variance is \r\n",
    "var=stats.variance(df['age'])\r\n",
    "print(var)"
   ],
   "outputs": [
    {
     "output_type": "stream",
     "name": "stdout",
     "text": [
      "31.607894736842105\n"
     ]
    }
   ],
   "metadata": {}
  },
  {
   "cell_type": "code",
   "execution_count": 29,
   "source": [
    "print(var/mean*100)"
   ],
   "outputs": [
    {
     "output_type": "stream",
     "name": "stdout",
     "text": [
      "95.34809875367152\n"
     ]
    }
   ],
   "metadata": {}
  },
  {
   "cell_type": "code",
   "execution_count": 30,
   "source": [
    "#standard deviation\r\n",
    "sd = df['age'].std()\r\n",
    "print(sd)"
   ],
   "outputs": [
    {
     "output_type": "stream",
     "name": "stdout",
     "text": [
      "5.622089890498203\n"
     ]
    }
   ],
   "metadata": {}
  },
  {
   "cell_type": "code",
   "execution_count": 31,
   "source": [
    "#HISTOGRAM\r\n",
    "plt.hist(df['age'])\r\n",
    "plt.xlabel('Age')\r\n",
    "plt.ylabel('Count')\r\n",
    "plt.show()"
   ],
   "outputs": [
    {
     "output_type": "display_data",
     "data": {
      "text/plain": [
       "<Figure size 432x288 with 1 Axes>"
      ],
      "image/png": "[encoded data removed]"
     },
     "metadata": {
      "needs_background": "light"
     }
    }
   ],
   "metadata": {}
  },
  {
   "cell_type": "code",
   "execution_count": 32,
   "source": [
    "#boxplot\r\n",
    "df.boxplot('age')\r\n",
    "plt.title('Boxplot')\r\n",
    "plt.xlabel('Median location')"
   ],
   "outputs": [
    {
     "output_type": "execute_result",
     "data": {
      "text/plain": [
       "Text(0.5, 0, 'Median location')"
      ]
     },
     "metadata": {},
     "execution_count": 32
    },
    {
     "output_type": "display_data",
     "data": {
      "text/plain": [
       "<Figure size 432x288 with 1 Axes>"
      ],
      "image/png": "[encoded data removed]"
     },
     "metadata": {
      "needs_background": "light"
     }
    }
   ],
   "metadata": {}
  },
  {
   "cell_type": "code",
   "execution_count": 8,
   "source": [
    "#grades\r\n",
    "#CENTRAL TENDENCY\r\n",
    "mean_grades = df['avg_1st_sem'].mean()\r\n",
    "print('Grades Mean: ',mean_grades)\r\n",
    "\r\n",
    "\r\n",
    "median_grades = df['avg_1st_sem'].median()\r\n",
    "print('Median: ',median_grades)\r\n",
    "\r\n",
    "\r\n",
    "mode_grades = df['avg_1st_sem'].mode()\r\n",
    "print('Grades Mode: ',mode_grades)\r\n",
    "\r\n",
    "var_grades=stats.variance(df['avg_1st_sem'])\r\n",
    "print('Grades Var: ',var_grades)\r\n",
    "\r\n",
    "sd_grades = df['avg_1st_sem'].std()\r\n",
    "print('Grades SD: ',sd_grades)\r\n",
    "\r\n",
    "df.boxplot('avg_1st_sem')\r\n",
    "plt.title('Boxplot')\r\n",
    "plt.xlabel('Grades Median location')\r\n",
    "\r\n",
    "\r\n"
   ],
   "outputs": [
    {
     "output_type": "stream",
     "name": "stdout",
     "text": [
      "Grades Mean:  68.45\n",
      "Median:  70.0\n",
      "Grades Mode:  0    73\n",
      "dtype: int64\n",
      "Grades Var:  110.8921052631579\n",
      "Grades SD:  10.5305320503362\n"
     ]
    },
    {
     "output_type": "execute_result",
     "data": {
      "text/plain": [
       "Text(0.5, 0, 'Grades Median location')"
      ]
     },
     "metadata": {},
     "execution_count": 8
    },
    {
     "output_type": "display_data",
     "data": {
      "text/plain": [
       "<Figure size 432x288 with 1 Axes>"
      ],
      "image/png": "[encoded data removed]"
     },
     "metadata": {
      "needs_background": "light"
     }
    }
   ],
   "metadata": {}
  },
  {
   "cell_type": "code",
   "execution_count": 37,
   "source": [
    "plt.hist(df['avg_1st_sem'])\r\n",
    "plt.xlabel('Grades')\r\n",
    "plt.ylabel('Count')\r\n",
    "plt.show()"
   ],
   "outputs": [
    {
     "output_type": "display_data",
     "data": {
      "text/plain": [
       "<Figure size 432x288 with 1 Axes>"
      ],
      "image/png": "[encoded data removed]"
     },
     "metadata": {
      "needs_background": "light"
     }
    }
   ],
   "metadata": {}
  },
  {
   "cell_type": "code",
   "execution_count": 58,
   "source": [
    "#failing module in 1st semester\r\n",
    "#CENTRAL TENDENCY\r\n",
    "mean_failed = df['mod_failed'].mean()\r\n",
    "print('Fail Modules Mean: ',mean_failed)\r\n",
    "\r\n",
    "median_failed = df['mod_failed'].median()\r\n",
    "print('Fail Modules Median: ',median_failed)\r\n",
    "\r\n",
    "\r\n",
    "mode_failed = df['mod_failed'].mode()\r\n",
    "print('Fail Modules Mode: ',mode_failed)\r\n",
    "\r\n",
    "var_failed=stats.variance(df['mod_failed'])\r\n",
    "print('Fail Modules Var: ',var_failed)\r\n",
    "\r\n",
    "sd_failed = df['mod_failed'].std()\r\n",
    "print('Fail Modules SD: ',sd_failed)\r\n",
    "\r\n",
    "# countf = 0\r\n",
    "# for i in range(20):\r\n",
    "#     if df['mod_failed'][i]>0:\r\n",
    "#         countf+=1\r\n",
    "# print('Percentage of students that failed a module: ',countf/20*100)"
   ],
   "outputs": [
    {
     "output_type": "stream",
     "name": "stdout",
     "text": [
      "Fail Modules Mean:  0.6\n",
      "Fail Modules Median:  1.0\n",
      "Fail Modules Mode:  0    1\n",
      "dtype: int64\n",
      "Fail Modules Var:  0.35789473684210527\n",
      "Fail Modules SD:  0.5982430416161189\n"
     ]
    }
   ],
   "metadata": {}
  },
  {
   "cell_type": "code",
   "execution_count": 43,
   "source": [
    "#binomial distribution\r\n",
    "from scipy.stats import binom\r\n",
    "import matplotlib.pyplot as plt\r\n",
    "n = 20\r\n",
    "p = 0.25\r\n",
    "rValues = list(range(n + 1))\r\n",
    "di = [binom.pmf(r, n, p) for r in r_values ]\r\n",
    "plt.bar(rValues, di)\r\n",
    "plt.show()"
   ],
   "outputs": [
    {
     "output_type": "display_data",
     "data": {
      "text/plain": [
       "<Figure size 432x288 with 1 Axes>"
      ],
      "image/png": "[encoded data removed]"
     },
     "metadata": {
      "needs_background": "light"
     }
    }
   ],
   "metadata": {}
  },
  {
   "cell_type": "code",
   "execution_count": 46,
   "source": [
    "#no students starting new course so k=0\r\n",
    "solution = binom.pmf(k=0, n = 20, p=0.25)\r\n",
    "print('Probability of no students continuing: ', solution)"
   ],
   "outputs": [
    {
     "output_type": "stream",
     "name": "stdout",
     "text": [
      "Probability of no students continuing:  0.0031712119389339963\n"
     ]
    }
   ],
   "metadata": {}
  },
  {
   "cell_type": "code",
   "execution_count": 47,
   "source": [
    "print(\"Number of students that want to continue study: \", n*p)"
   ],
   "outputs": [
    {
     "output_type": "stream",
     "name": "stdout",
     "text": [
      "Number of students that want to continue study:  5.0\n"
     ]
    }
   ],
   "metadata": {}
  },
  {
   "cell_type": "code",
   "execution_count": 59,
   "source": [
    "#Poisson\r\n",
    "print('Probability to fail more than 2 modules: ', 1-0.9197)"
   ],
   "outputs": [
    {
     "output_type": "stream",
     "name": "stdout",
     "text": [
      "Probability to fail more than 2 modules:  0.08030000000000004\n"
     ]
    }
   ],
   "metadata": {}
  },
  {
   "cell_type": "code",
   "execution_count": 92,
   "source": [
    "#normal distribution\r\n",
    "import numpy as np\r\n",
    "from scipy.stats import norm\r\n",
    "\r\n",
    "mu, std = norm.fit(df['avg_1st_sem'])\r\n",
    "print(mu,'\\n',std)"
   ],
   "outputs": [
    {
     "output_type": "stream",
     "name": "stdout",
     "text": [
      "68.45 \n",
      " 10.263893023604641\n"
     ]
    }
   ],
   "metadata": {}
  },
  {
   "cell_type": "code",
   "execution_count": 61,
   "source": [
    "#as per google, good way to see if data normally distributed, is if p>0.05\r\n",
    "from scipy.stats import shapiro\r\n",
    "#perform Shapiro-Wilk test\r\n",
    "print(shapiro(df['avg_1st_sem']))"
   ],
   "outputs": [
    {
     "output_type": "stream",
     "name": "stdout",
     "text": [
      "ShapiroResult(statistic=0.9493924975395203, pvalue=0.3579622209072113)\n"
     ]
    }
   ],
   "metadata": {}
  },
  {
   "cell_type": "code",
   "execution_count": 93,
   "source": [
    "#normal distribution\r\n",
    "s = np.random.normal(68.45, 10.26, 1000)\r\n",
    "# Create the bins and histogram\r\n",
    "count, bins, ignored = plt.hist(s, 20,density=True)\r\n",
    "# Plot the distribution curve\r\n",
    "plt.plot(bins, 1/(sigma * np.sqrt(2 * np.pi)) *\r\n",
    "    np.exp( - (bins - mu)**2 / (2 * sigma**2) ), linewidth=3, color='y')\r\n",
    "plt.show()"
   ],
   "outputs": [
    {
     "output_type": "display_data",
     "data": {
      "text/plain": [
       "<Figure size 432x288 with 1 Axes>"
      ],
      "image/png": "[encoded data removed]"
     },
     "metadata": {
      "needs_background": "light"
     }
    }
   ],
   "metadata": {}
  },
  {
   "cell_type": "code",
   "execution_count": 30,
   "source": [
    "import numpy as np\r\n",
    "import matplotlib.pyplot as plt\r\n",
    "from scipy.stats import norm\r\n",
    "\r\n",
    "def z_score_plot(x, cond, mu, sigma, title):\r\n",
    "    y = norm.pdf(x, mu, sigma)\r\n",
    "    z = x[cond]\r\n",
    "    plt.plot(x, y)\r\n",
    "    plt.fill_between(z, 0, norm.pdf(z, mu, sigma))\r\n",
    "    plt.title(title)\r\n",
    "    plt.show()\r\n",
    "\r\n",
    "x=np.arange(-3,3,0.001)\r\n",
    "z0 =-2.7\r\n",
    "z_score_plot(x, x>z0, 0, 1,'X=99.653%' )"
   ],
   "outputs": [
    {
     "output_type": "display_data",
     "data": {
      "text/plain": [
       "<Figure size 432x288 with 1 Axes>"
      ],
      "image/png": "[encoded data removed]"
     },
     "metadata": {
      "needs_background": "light"
     }
    }
   ],
   "metadata": {}
  },
  {
   "cell_type": "code",
   "execution_count": 7,
   "source": [
    "#Confidence interval average grades\r\n",
    "import scipy.stats as stat\r\n",
    "import numpy as np\r\n",
    "stat.t.interval(alpha=0.95, df=len(df['avg_1st_sem'])-1, loc=np.mean(df['avg_1st_sem']), scale=stat.sem(df['avg_1st_sem'])) "
   ],
   "outputs": [
    {
     "output_type": "execute_result",
     "data": {
      "text/plain": [
       "(63.521559293176075, 73.37844070682394)"
      ]
     },
     "metadata": {},
     "execution_count": 7
    }
   ],
   "metadata": {}
  },
  {
   "cell_type": "code",
   "execution_count": 11,
   "source": [
    "#96 % Confidence interval average age\r\n",
    "stat.t.interval(alpha=0.96, df=len(df['age'])-1, loc=np.mean(df['age']), scale=stat.sem(df['age'])) "
   ],
   "outputs": [
    {
     "output_type": "execute_result",
     "data": {
      "text/plain": [
       "(30.378387218032906, 35.92161278196709)"
      ]
     },
     "metadata": {},
     "execution_count": 11
    }
   ],
   "metadata": {}
  }
 ],
 "metadata": {
  "orig_nbformat": 4,
  "language_info": {
   "name": "python",
   "version": "3.8.8",
   "mimetype": "text/x-python",
   "codemirror_mode": {
    "name": "ipython",
    "version": 3
   },
   "pygments_lexer": "ipython3",
   "nbconvert_exporter": "python",
   "file_extension": ".py"
  },
  "kernelspec": {
   "name": "python3",
   "display_name": "Python 3.8.8 64-bit ('base': conda)"
  },
  "interpreter": {
   "hash": "ba8eff0f4464d83793294359e448dc687798df61176a979a49280af425402487"
  }
 },
 "nbformat": 4,
 "nbformat_minor": 2
}